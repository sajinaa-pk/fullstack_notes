{
  "cells": [
    {
      "cell_type": "raw",
      "metadata": {
        "id": "bklNuCe1S9uD"
      },
      "source": [
        "1  Intro to files and file types\n",
        "\n",
        "\n",
        "2  Opening and closing of files\n",
        "\n",
        "\n",
        "\n",
        "3   File reading\n",
        "\n",
        "\n",
        "\n",
        "4  Setting offsets in a file\n",
        "\n",
        "\n",
        "\n",
        "5  Creating and traversing a text file\n",
        "\n",
        "\n",
        "6.write a file "
      ]
    },
    {
      "cell_type": "markdown",
      "metadata": {
        "id": "OvcmzHI_S9uG"
      },
      "source": [
        "# File handling\n",
        "\n",
        "File Handling is the storing of data in a file using a program\n",
        "\n",
        "File handling is an important part of any web application.\n",
        "\n",
        "Python has several functions for creating, reading, updating, and deleting files.\n",
        "\n"
      ]
    },
    {
      "cell_type": "raw",
      "metadata": {
        "id": "LnXBEt25S9uJ"
      },
      "source": [
        "# File Handling\n",
        "\n",
        "The key function for working with files in Python is the open() function.\n",
        "\n",
        "The open() function takes two parameters; filename, and mode.\n",
        "\n",
        "There are four different methods (modes) for opening a file:\n",
        "\n",
        "\"r\" - Read - Default value. Opens a file for reading, error if the file does not exist\n",
        "\n",
        "\"a\" - Append - Opens a file for appending, creates the file if it does not exist\n",
        "\n",
        "\"w\" - Write - Opens a file for writing, creates the file if it does not exist\n",
        "\n",
        "\"x\" - Create - Creates the specified file, returns an error if the file exists\n",
        "\n",
        "In addition you can specify if the file should be handled as binary or text mode\n",
        "\n",
        "\"t\" - Text - Default value. Text mode\n",
        "\n",
        "\"b\" - Binary - Binary mode (e.g. images)"
      ]
    },
    {
      "cell_type": "code",
      "execution_count": null,
      "metadata": {
        "id": "w7IxGRXvS9uL"
      },
      "outputs": [],
      "source": [
        "#to open a file for reading it is enough to specify the name of the file:\n",
        "\n",
        "  syntax f = open(filename, mode)\n",
        "    \n",
        "#f = open(\"demofile.txt\")"
      ]
    },
    {
      "cell_type": "code",
      "execution_count": null,
      "metadata": {
        "id": "nupElAftS9uM"
      },
      "outputs": [],
      "source": [
        "f = open(\"demofile.txt\", \"rt\")\n",
        "#Because \"r\" for read, and \"t\" for text are the default values, you do not need to specify them."
      ]
    },
    {
      "cell_type": "code",
      "execution_count": null,
      "metadata": {
        "id": "pbjjLm49S9uM"
      },
      "outputs": [],
      "source": [
        "#create  a text file and download "
      ]
    },
    {
      "cell_type": "markdown",
      "metadata": {
        "id": "6k4u5SOES9uN"
      },
      "source": [
        "# To open the file, use the built-in open() function.\n",
        "\n",
        "#The open() function returns a file object, which has a read() method for reading the content of the f"
      ]
    },
    {
      "cell_type": "code",
      "execution_count": null,
      "metadata": {
        "id": "IL22ku_XS9uN",
        "outputId": "540ba762-1439-452f-8382-03915a32f54f"
      },
      "outputs": [
        {
          "name": "stdout",
          "output_type": "stream",
          "text": [
            "THIS IS LINE 1\n",
            "\n",
            "\n",
            "THIS IS LINE 2\n",
            "\n",
            "\n",
            "THIS IS LINE 3\n"
          ]
        }
      ],
      "source": [
        "f = open(\"//home//dell//Downloads//untitled2 (1).txt\", \"r\")\n",
        "print(f.read())\n"
      ]
    },
    {
      "cell_type": "code",
      "execution_count": null,
      "metadata": {
        "id": "6HbDS_i9S9uP"
      },
      "outputs": [],
      "source": [
        "f=open(\"\")"
      ]
    },
    {
      "cell_type": "code",
      "execution_count": null,
      "metadata": {
        "id": "FTa_gSadS9uP",
        "outputId": "3e9ebf55-3e5b-462c-a27c-8fb6d52c5f1a"
      },
      "outputs": [
        {
          "name": "stdout",
          "output_type": "stream",
          "text": [
            "this is a trai file handling\n",
            "\n"
          ]
        }
      ],
      "source": [
        "#If the file is located in a different location, you will have to specify the file path, like this:\n",
        "\n",
        "#Example\n",
        "#Open a file on a different location:\n",
        "\n",
        "f = open(\"//home//dell//Downloads//untitled (2).txt\", \"r\")\n",
        "\n",
        "print(f.read())"
      ]
    },
    {
      "cell_type": "code",
      "execution_count": null,
      "metadata": {
        "id": "hw9fCscbS9uQ",
        "outputId": "c7eb67a3-2fe3-46f8-87e5-af62dbe61349"
      },
      "outputs": [
        {
          "name": "stdout",
          "output_type": "stream",
          "text": [
            "THIS\n"
          ]
        }
      ],
      "source": [
        "#Read Only Parts of the File\n",
        "\n",
        "\n",
        "#By default the read() method returns the whole text, but you can also specify how many characters you want to return:\n",
        "\n",
        "\n",
        "f = open(\"//home//dell//Downloads//untitled2 (1).txt\", \"r\")\n",
        "\n",
        "print(f.read(4))"
      ]
    },
    {
      "cell_type": "code",
      "execution_count": null,
      "metadata": {
        "id": "ejfTHLNVS9uQ",
        "outputId": "66664aff-33f5-4c51-e830-2d52992f3edf"
      },
      "outputs": [
        {
          "name": "stdout",
          "output_type": "stream",
          "text": [
            "THIS\n",
            " IS LINE 1\n",
            "\n",
            "\n",
            "THIS IS LINE 2\n",
            "\n",
            "\n",
            "THIS IS LINE 3\n"
          ]
        }
      ],
      "source": [
        "\n",
        "f = open(\"//home//dell//Downloads//untitled2 (1).txt\", \"r\")\n",
        "\n",
        "print(f.read(4))\n",
        "print(f.read()) #print from 7th letter"
      ]
    },
    {
      "cell_type": "markdown",
      "metadata": {
        "id": "PcYSL4wIS9uR"
      },
      "source": [
        "# setting offset in a file \n",
        "\n",
        "to acces the data in a file we use functions \n",
        "\n",
        "\n",
        "two methods \n",
        "\n",
        "\n",
        "tell() and seek()\n"
      ]
    },
    {
      "cell_type": "code",
      "execution_count": null,
      "metadata": {
        "id": "4sE5ANw3S9uR"
      },
      "outputs": [],
      "source": [
        "#Tell()\n",
        "#to know the current position\n",
        "\n",
        "\n",
        "f = open(\"//home//dell//Downloads//untitled2 (1).txt\", \"r\")\n",
        "\n",
        "print(f.read(6))\n",
        "\n",
        "print(\"The current position is :\",f.tell())\n",
        "\n",
        "print(f.read())"
      ]
    },
    {
      "cell_type": "code",
      "execution_count": null,
      "metadata": {
        "id": "l6cIOsQ3S9uS"
      },
      "outputs": [],
      "source": [
        "#seek\n",
        "#to go back to the zeroth letter or position\n",
        "f = open(\"//home//dell//Downloads//untitled2 (1).txt\", \"r\")\n",
        "\n",
        "print(f.read(6))\n",
        "\n",
        "print(\"The current position is :\",f.tell())\n",
        "\n",
        "f.seek(0)\n",
        "\n",
        "print(f.read())\n"
      ]
    },
    {
      "cell_type": "markdown",
      "metadata": {
        "id": "nGrhE_Y2S9uS"
      },
      "source": [
        "# Read Lines\n",
        "\n",
        "You can return one line by using the readline() method:\n",
        "\n"
      ]
    },
    {
      "cell_type": "code",
      "execution_count": null,
      "metadata": {
        "id": "UO_sujJpS9uS"
      },
      "outputs": [],
      "source": [
        "#Example\n",
        "#Read one line of the file:\n",
        "\n",
        "f = open(\"//home//dell//Downloads//untitled2 (1).txt\", \"r\")\n",
        "print(f.readline())"
      ]
    },
    {
      "cell_type": "markdown",
      "metadata": {
        "id": "DOt-jEk1S9uT"
      },
      "source": [
        "# Close Files\n",
        "\n",
        "It is a good practice to always close the file when you are done with it.\n",
        "\n"
      ]
    },
    {
      "cell_type": "code",
      "execution_count": null,
      "metadata": {
        "id": "oRwMGvAwS9uT",
        "outputId": "fd1fb3f1-9027-4dc2-de2d-b54d133400da",
        "colab": {
          "base_uri": "https://localhost:8080/",
          "height": 255
        }
      },
      "outputs": [
        {
          "output_type": "error",
          "ename": "FileNotFoundError",
          "evalue": "ignored",
          "traceback": [
            "\u001b[0;31m---------------------------------------------------------------------------\u001b[0m",
            "\u001b[0;31mFileNotFoundError\u001b[0m                         Traceback (most recent call last)",
            "\u001b[0;32m<ipython-input-1-494e4ccd4fcd>\u001b[0m in \u001b[0;36m<module>\u001b[0;34m()\u001b[0m\n\u001b[1;32m      2\u001b[0m \u001b[0;31m#Close the file when you are finish with it:\u001b[0m\u001b[0;34m\u001b[0m\u001b[0;34m\u001b[0m\u001b[0;34m\u001b[0m\u001b[0m\n\u001b[1;32m      3\u001b[0m \u001b[0;34m\u001b[0m\u001b[0m\n\u001b[0;32m----> 4\u001b[0;31m \u001b[0mf\u001b[0m \u001b[0;34m=\u001b[0m \u001b[0mopen\u001b[0m\u001b[0;34m(\u001b[0m\u001b[0;34m\"//home//dell//Downloads//untitled2 (1).txt\"\u001b[0m\u001b[0;34m,\u001b[0m \u001b[0;34m\"r\"\u001b[0m\u001b[0;34m)\u001b[0m\u001b[0;34m\u001b[0m\u001b[0;34m\u001b[0m\u001b[0m\n\u001b[0m\u001b[1;32m      5\u001b[0m \u001b[0mprint\u001b[0m\u001b[0;34m(\u001b[0m\u001b[0mf\u001b[0m\u001b[0;34m.\u001b[0m\u001b[0mreadline\u001b[0m\u001b[0;34m(\u001b[0m\u001b[0;34m)\u001b[0m\u001b[0;34m)\u001b[0m\u001b[0;34m\u001b[0m\u001b[0;34m\u001b[0m\u001b[0m\n\u001b[1;32m      6\u001b[0m \u001b[0mf\u001b[0m\u001b[0;34m.\u001b[0m\u001b[0mclose\u001b[0m\u001b[0;34m(\u001b[0m\u001b[0;34m)\u001b[0m\u001b[0;34m\u001b[0m\u001b[0;34m\u001b[0m\u001b[0m\n",
            "\u001b[0;31mFileNotFoundError\u001b[0m: [Errno 2] No such file or directory: '//home//dell//Downloads//untitled2 (1).txt'"
          ]
        }
      ],
      "source": [
        "#Example\n",
        "#Close the file when you are finish with it:\n",
        "\n",
        "f = open(\"//home//dell//Downloads//untitled2 (1).txt\", \"r\")\n",
        "print(f.readline())\n",
        "f.close()"
      ]
    },
    {
      "cell_type": "code",
      "execution_count": null,
      "metadata": {
        "id": "-f4HA9bAS9uU"
      },
      "outputs": [],
      "source": [
        "#print as a list\n",
        "f = open(\"//home//dell//Downloads//untitled2 (1).txt\", \"r\")\n",
        "print(f.readlines())\n",
        "f.close()"
      ]
    },
    {
      "cell_type": "code",
      "execution_count": null,
      "metadata": {
        "id": "qde99HohS9uV"
      },
      "outputs": [],
      "source": [
        "#close using context manager\n",
        "#its a good practice\n",
        "# with keyword  as fp/f:\n",
        "\n",
        "f-open(\"path\")\n",
        "\n",
        "\n",
        "f.cloe\n",
        "\n",
        "\n",
        "with open(\"path\",mode):\n",
        "    print(f.read())\n",
        "\n"
      ]
    },
    {
      "cell_type": "markdown",
      "metadata": {
        "id": "gLosDra6S9uV"
      },
      "source": [
        "# Write a file()"
      ]
    },
    {
      "cell_type": "markdown",
      "metadata": {
        "id": "NpOmPSNvS9uV"
      },
      "source": [
        "Write to an Existing File\n",
        "\n",
        "To write to an existing file, you must add a parameter to the open() function:\n",
        "    \n",
        "\n",
        "\"a\" - Append - will append to the end of the file\n",
        "\n",
        "\n",
        "\"w\" - Write - will overwrite any existing content"
      ]
    },
    {
      "cell_type": "code",
      "execution_count": null,
      "metadata": {
        "id": "KAjTPoWES9uW",
        "colab": {
          "base_uri": "https://localhost:8080/"
        },
        "outputId": "23fea332-f541-4a2d-a007-2d75f8c09d2a"
      },
      "outputs": [
        {
          "output_type": "stream",
          "name": "stdout",
          "text": [
            "hi\n"
          ]
        }
      ],
      "source": [
        "#this file is not exist it  will downloaded on the system\n",
        "\n",
        "with open(\"file write demo8.txt\", \"w\") as f:\n",
        "    print('hi')\n"
      ]
    },
    {
      "cell_type": "code",
      "execution_count": null,
      "metadata": {
        "id": "Tc9UflgUS9uX"
      },
      "outputs": [],
      "source": [
        ""
      ]
    },
    {
      "cell_type": "code",
      "execution_count": null,
      "metadata": {
        "id": "Fnhb5kC8S9uX",
        "colab": {
          "base_uri": "https://localhost:8080/"
        },
        "outputId": "189b9dbd-9e5c-4188-8e9f-86d3401909e2"
      },
      "outputs": [
        {
          "output_type": "stream",
          "name": "stdout",
          "text": [
            "hi\n"
          ]
        }
      ],
      "source": [
        "with open(\"files write demo3.txt\", \"w\") as f:\n",
        "    print('hi')\n"
      ]
    },
    {
      "cell_type": "code",
      "execution_count": null,
      "metadata": {
        "id": "ovtqrHAIS9uY"
      },
      "outputs": [],
      "source": [
        "#then edit the file with text\n",
        "\n",
        "#then again run the above cell\n",
        "#the file must be empty\n",
        "#its n the  note\n"
      ]
    },
    {
      "cell_type": "code",
      "execution_count": null,
      "metadata": {
        "id": "KzOKkdeSS9uY",
        "colab": {
          "base_uri": "https://localhost:8080/"
        },
        "outputId": "dae13939-b78a-4f8f-a848-09ca4276ba5a"
      },
      "outputs": [
        {
          "output_type": "stream",
          "name": "stdout",
          "text": [
            "\n"
          ]
        }
      ],
      "source": [
        "#writing a file\n",
        "with open(\"file write demo8.txt\", \"r\") as f:\n",
        "    print(f.read())\n",
        "\n"
      ]
    },
    {
      "cell_type": "code",
      "execution_count": null,
      "metadata": {
        "id": "JM9L5SSiS9uZ",
        "colab": {
          "base_uri": "https://localhost:8080/"
        },
        "outputId": "0e022d2b-2a9f-48ed-f36b-c38ea8e452fd"
      },
      "outputs": [
        {
          "output_type": "stream",
          "name": "stdout",
          "text": [
            "hi\n"
          ]
        }
      ],
      "source": [
        "with open(\"file write demo3.txt\", \"w\") as f:\n",
        "    print('hi')\n"
      ]
    },
    {
      "cell_type": "code",
      "execution_count": null,
      "metadata": {
        "id": "2cDYuxfMS9uZ"
      },
      "outputs": [],
      "source": [
        "#writing a file\n",
        "with open(\"file write demo3.txt\", \"w\") as f:\n",
        "    \n",
        "    f.write(\"this is new line \\n this is line 2\")"
      ]
    },
    {
      "cell_type": "code",
      "execution_count": null,
      "metadata": {
        "id": "U_4aIR6ZS9uZ"
      },
      "outputs": [],
      "source": [
        "#append mode()\n",
        "with open(\"file write demo3.txt\", \"a\") as f:\n",
        "    f.write(\" \\nthis is line 3\")\n",
        "\n",
        "\n",
        "\n"
      ]
    },
    {
      "cell_type": "code",
      "execution_count": null,
      "metadata": {
        "id": "ZzGuAu84S9uZ",
        "colab": {
          "base_uri": "https://localhost:8080/",
          "height": 208
        },
        "outputId": "0a16ecf5-5516-45c8-d285-4d2c85c440fc"
      },
      "outputs": [
        {
          "output_type": "error",
          "ename": "ValueError",
          "evalue": "ignored",
          "traceback": [
            "\u001b[0;31m---------------------------------------------------------------------------\u001b[0m",
            "\u001b[0;31mValueError\u001b[0m                                Traceback (most recent call last)",
            "\u001b[0;32m<ipython-input-8-115aa6a66d21>\u001b[0m in \u001b[0;36m<module>\u001b[0;34m()\u001b[0m\n\u001b[1;32m      1\u001b[0m \u001b[0;31m#append mode()\u001b[0m\u001b[0;34m\u001b[0m\u001b[0;34m\u001b[0m\u001b[0;34m\u001b[0m\u001b[0m\n\u001b[0;32m----> 2\u001b[0;31m \u001b[0;32mwith\u001b[0m \u001b[0mopen\u001b[0m\u001b[0;34m(\u001b[0m\u001b[0;34m\"file write demo.txt\"\u001b[0m\u001b[0;34m,\u001b[0m \u001b[0;34m\"\"\u001b[0m\u001b[0;34m)\u001b[0m \u001b[0;32mas\u001b[0m \u001b[0mf\u001b[0m\u001b[0;34m:\u001b[0m\u001b[0;34m\u001b[0m\u001b[0;34m\u001b[0m\u001b[0m\n\u001b[0m\u001b[1;32m      3\u001b[0m     \u001b[0mf\u001b[0m\u001b[0;34m.\u001b[0m\u001b[0mwrite\u001b[0m\u001b[0;34m(\u001b[0m\u001b[0;34m\" \\nthis is line 3\"\u001b[0m\u001b[0;34m)\u001b[0m\u001b[0;34m\u001b[0m\u001b[0;34m\u001b[0m\u001b[0m\n",
            "\u001b[0;31mValueError\u001b[0m: Must have exactly one of create/read/write/append mode and at most one plus"
          ]
        }
      ],
      "source": [
        "#append mode()\n",
        "with open(\"file write demo.txt\", \"\") as f:\n",
        "    f.write(\" \\nthis is line 3\")\n"
      ]
    },
    {
      "cell_type": "markdown",
      "metadata": {
        "id": "b545B4hTS9ua"
      },
      "source": [
        "# Exception Handling"
      ]
    },
    {
      "cell_type": "raw",
      "metadata": {
        "id": "4aSatt_xS9ua"
      },
      "source": [
        "Types of errors\n",
        "\n",
        "\n",
        "Exceptions\n",
        "\n",
        "\n",
        "Built-in Exceptions\n",
        "\n",
        "\n",
        "Raising Exceptions\n",
        "\n",
        "\n",
        "\n",
        "Handling Exceptions\n",
        "\n",
        "\n",
        "Finally"
      ]
    },
    {
      "cell_type": "markdown",
      "metadata": {
        "id": "ei6BoSgPS9ua"
      },
      "source": [
        "#Types of errors\n",
        "\n",
        "\n",
        "1)Syntax error  #error comes in syntax\n",
        "\n",
        "2)Logical error  #for example  if we are trying to print prime numbers,but output is someonether number \n",
        "\n",
        "3)Exceptions   #its a error from the user side"
      ]
    },
    {
      "cell_type": "code",
      "execution_count": null,
      "metadata": {
        "id": "9jGA21OES9ua"
      },
      "outputs": [],
      "source": [
        "#example\n",
        "#diving two  numbers\n",
        "\n",
        "num1=int(input(\"enter first number\"))\n",
        "num2=int(input(\"enter second number\"))\n",
        "\n",
        "c=num1/num2\n",
        "\n",
        "print(c)"
      ]
    },
    {
      "cell_type": "code",
      "execution_count": null,
      "metadata": {
        "id": "nX5EoOMrS9uc"
      },
      "outputs": [],
      "source": [
        "#exception error\n",
        "num1=int(input(\"enter first number\"))\n",
        "num2=int(input(\"enter second number\"))\n",
        "\n",
        "c=num1/num2\n",
        "\n",
        "print(c)"
      ]
    },
    {
      "cell_type": "code",
      "execution_count": null,
      "metadata": {
        "id": "QepmOZspS9uc",
        "colab": {
          "base_uri": "https://localhost:8080/"
        },
        "outputId": "5fb52e74-e11a-41ad-a4ab-83b41e79473f"
      },
      "outputs": [
        {
          "output_type": "stream",
          "name": "stdout",
          "text": [
            "enter first number2\n",
            "enter second number0\n",
            "enter valid input only\n"
          ]
        }
      ],
      "source": [
        "#how to fix this exception errors\n",
        "#using try and except keyword\n",
        "\n",
        "\n",
        "try:\n",
        "    num1=int(input(\"enter first number\"))\n",
        "    num2=int(input(\"enter second number\"))\n",
        "\n",
        "    c=num1/num2\n",
        "\n",
        "    print(c)\n",
        "except:\n",
        "    print(\"enter valid input only\")"
      ]
    },
    {
      "cell_type": "code",
      "execution_count": null,
      "metadata": {
        "id": "c756ox-6S9ud",
        "colab": {
          "base_uri": "https://localhost:8080/"
        },
        "outputId": "73392417-6dc1-4632-8647-903882821e72"
      },
      "outputs": [
        {
          "output_type": "stream",
          "name": "stdout",
          "text": [
            "enter first number2\n",
            "enter second number0\n",
            "enter valid input only\n"
          ]
        }
      ],
      "source": [
        "#else condition\n",
        "try:\n",
        "    num1=int(input(\"enter first number\"))\n",
        "    num2=int(input(\"enter second number\"))\n",
        "\n",
        "    c=num1/num2\n",
        "\n",
        "    print(c)\n",
        "except:\n",
        "    print(\"enter valid input only\")\n",
        "else:\n",
        "    print(c)\n"
      ]
    },
    {
      "cell_type": "code",
      "execution_count": null,
      "metadata": {
        "id": "T36qEAiqS9ue",
        "colab": {
          "base_uri": "https://localhost:8080/"
        },
        "outputId": "51bce3f6-ba26-484b-f4c0-79b4896adedb"
      },
      "outputs": [
        {
          "output_type": "stream",
          "name": "stdout",
          "text": [
            "enter first number3\n",
            "enter second number0\n",
            "enter valid input only\n",
            "end of the program\n"
          ]
        }
      ],
      "source": [
        "#finally\n",
        "\n",
        "try:\n",
        "    num1=int(input(\"enter first number\"))\n",
        "    num2=int(input(\"enter second number\"))\n",
        "\n",
        "    c=num1/num2\n",
        "\n",
        "    print(c)\n",
        "except:\n",
        "    print(\"enter valid input only\")\n",
        "else:\n",
        "    print(c)\n",
        "finally:\n",
        "    print(\"end of the program\")"
      ]
    },
    {
      "cell_type": "code",
      "execution_count": null,
      "metadata": {
        "id": "zhqeJqDkS9ue",
        "colab": {
          "base_uri": "https://localhost:8080/"
        },
        "outputId": "9a178411-ae22-43b5-ae72-39d8ef902a78"
      },
      "outputs": [
        {
          "output_type": "stream",
          "name": "stdout",
          "text": [
            "enter first number2\n",
            "enter second number0\n",
            "enter valid input only\n",
            "enter first number3\n",
            "enter second number0\n",
            "enter valid input only\n",
            "enter first number5\n",
            "enter second number6\n",
            "0.8333333333333334\n",
            "0.8333333333333334\n"
          ]
        }
      ],
      "source": [
        "0#infinit loop\n",
        "\n",
        "while True:\n",
        "    try:\n",
        "        num1=int(input(\"enter first number\"))\n",
        "        num2=int(input(\"enter second number\"))\n",
        "\n",
        "        c=num1/num2\n",
        "\n",
        "        print(c)\n",
        "    except:\n",
        "        print(\"enter valid input only\")\n",
        "    else:\n",
        "        print(c)\n",
        "        break\n",
        "\n",
        "    "
      ]
    },
    {
      "cell_type": "code",
      "execution_count": null,
      "metadata": {
        "id": "GkoL4XIMS9ue",
        "colab": {
          "base_uri": "https://localhost:8080/",
          "height": 282
        },
        "outputId": "f2f3e4b2-ae09-419f-d5a9-453a755dc4e2"
      },
      "outputs": [
        {
          "name": "stdout",
          "output_type": "stream",
          "text": [
            "enter first number2\n",
            "enter second numbera\n"
          ]
        },
        {
          "output_type": "error",
          "ename": "ValueError",
          "evalue": "ignored",
          "traceback": [
            "\u001b[0;31m---------------------------------------------------------------------------\u001b[0m",
            "\u001b[0;31mValueError\u001b[0m                                Traceback (most recent call last)",
            "\u001b[0;32m<ipython-input-6-cebc562c5755>\u001b[0m in \u001b[0;36m<module>\u001b[0;34m()\u001b[0m\n\u001b[1;32m      3\u001b[0m \u001b[0;31m#value error\u001b[0m\u001b[0;34m\u001b[0m\u001b[0;34m\u001b[0m\u001b[0;34m\u001b[0m\u001b[0m\n\u001b[1;32m      4\u001b[0m \u001b[0mnum1\u001b[0m\u001b[0;34m=\u001b[0m\u001b[0mint\u001b[0m\u001b[0;34m(\u001b[0m\u001b[0minput\u001b[0m\u001b[0;34m(\u001b[0m\u001b[0;34m\"enter first number\"\u001b[0m\u001b[0;34m)\u001b[0m\u001b[0;34m)\u001b[0m\u001b[0;34m\u001b[0m\u001b[0;34m\u001b[0m\u001b[0m\n\u001b[0;32m----> 5\u001b[0;31m \u001b[0mnum2\u001b[0m\u001b[0;34m=\u001b[0m\u001b[0mint\u001b[0m\u001b[0;34m(\u001b[0m\u001b[0minput\u001b[0m\u001b[0;34m(\u001b[0m\u001b[0;34m\"enter second number\"\u001b[0m\u001b[0;34m)\u001b[0m\u001b[0;34m)\u001b[0m\u001b[0;34m\u001b[0m\u001b[0;34m\u001b[0m\u001b[0m\n\u001b[0m\u001b[1;32m      6\u001b[0m \u001b[0;34m\u001b[0m\u001b[0m\n\u001b[1;32m      7\u001b[0m \u001b[0mc\u001b[0m\u001b[0;34m=\u001b[0m\u001b[0mnum1\u001b[0m\u001b[0;34m/\u001b[0m\u001b[0mnum2\u001b[0m\u001b[0;34m\u001b[0m\u001b[0;34m\u001b[0m\u001b[0m\n",
            "\u001b[0;31mValueError\u001b[0m: invalid literal for int() with base 10: 'a'"
          ]
        }
      ],
      "source": [
        "0#built in exception\n",
        "\n",
        "#value error\n",
        "num1=int(input(\"enter first number\"))\n",
        "num2=int(input(\"enter second number\"))\n",
        "\n",
        "c=num1/num2\n",
        "\n",
        "print(c)\n"
      ]
    },
    {
      "cell_type": "code",
      "execution_count": null,
      "metadata": {
        "id": "OMf7_YhqS9ue"
      },
      "outputs": [],
      "source": [
        "#zero division error\n",
        "num1=int(input(\"enter first number\"))\n",
        "num2=int(input(\"enter second number\"))\n",
        "\n",
        "c=num1/num2\n",
        "\n",
        "print(c)\n"
      ]
    },
    {
      "cell_type": "code",
      "execution_count": null,
      "metadata": {
        "id": "HtxEbiMdS9ue",
        "colab": {
          "base_uri": "https://localhost:8080/"
        },
        "outputId": "7a86d719-1476-4a6c-bf81-908a14bb0f4f"
      },
      "outputs": [
        {
          "output_type": "stream",
          "name": "stdout",
          "text": [
            "enter first number2\n",
            "enter second number0\n",
            "division by zero\n"
          ]
        }
      ],
      "source": [
        "#how to call inbuild function\n",
        "try:\n",
        "    num1=int(input(\"enter first number\"))\n",
        "    num2=int(input(\"enter second number\"))\n",
        "\n",
        "    c=num1/num2\n",
        "except ZeroDivisionError:\n",
        "    print(\"division by zero\")\n",
        "except ValueError:\n",
        "    print(\"invalid input\")\n",
        "else:\n",
        "    print(c)\n",
        "\n",
        "\n"
      ]
    },
    {
      "cell_type": "code",
      "source": [
        "#how to call inbuild function\n",
        "try:\n",
        "    num1=int(input(\"enter first number\"))\n",
        "    num2=int(input(\"enter second number\"))\n",
        "\n",
        "    c=num1/num2\n",
        "except ZeroDivisionError:\n",
        "    print(\"division by zero\")\n",
        "except ValueError:\n",
        "    print(\"invalid input\")\n",
        "else:\n",
        "    print(c)"
      ],
      "metadata": {
        "id": "Y2NM3lqd-Tnn",
        "colab": {
          "base_uri": "https://localhost:8080/"
        },
        "outputId": "60db01fe-5a48-4383-e35c-a818a21d07f2"
      },
      "execution_count": null,
      "outputs": [
        {
          "output_type": "stream",
          "name": "stdout",
          "text": [
            "enter first number4\n",
            "enter second number2\n",
            "2.0\n"
          ]
        }
      ]
    },
    {
      "cell_type": "code",
      "source": [
        ""
      ],
      "metadata": {
        "id": "gxblLBjGgoGC"
      },
      "execution_count": null,
      "outputs": []
    }
  ],
  "metadata": {
    "kernelspec": {
      "display_name": "Python 3",
      "language": "python",
      "name": "python3"
    },
    "language_info": {
      "codemirror_mode": {
        "name": "ipython",
        "version": 3
      },
      "file_extension": ".py",
      "mimetype": "text/x-python",
      "name": "python",
      "nbconvert_exporter": "python",
      "pygments_lexer": "ipython3",
      "version": "3.7.3"
    },
    "colab": {
      "name": "Python class note  (1).ipynb",
      "provenance": []
    }
  },
  "nbformat": 4,
  "nbformat_minor": 0
}