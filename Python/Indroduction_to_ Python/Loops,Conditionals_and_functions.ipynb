{
  "cells": [
    {
      "cell_type": "raw",
      "id": "5fc68cdd",
      "metadata": {
        "id": "5fc68cdd"
      },
      "source": [
        "# Python Conditions"
      ]
    },
    {
      "cell_type": "raw",
      "id": "bbef6ea9",
      "metadata": {
        "id": "bbef6ea9"
      },
      "source": [
        "If statements"
      ]
    },
    {
      "cell_type": "markdown",
      "id": "60822aea",
      "metadata": {
        "id": "60822aea"
      },
      "source": [
        "#Python supports the usual logical conditions from mathematics: #comparison or realational operatore\n",
        "\n",
        "Equals: a == b\n",
        "    \n",
        "    \n",
        "Not Equals: a != b\n",
        "    \n",
        "    \n",
        "Less than: a < b\n",
        "    \n",
        "    \n",
        "Less than or equal to: a <= b\n",
        "    \n",
        "    \n",
        "Greater than: a > b\n",
        "    \n",
        "    \n",
        "Greater than or equal to: a >= b"
      ]
    },
    {
      "cell_type": "raw",
      "id": "70376c59",
      "metadata": {
        "id": "70376c59"
      },
      "source": [
        "These conditions can be used in several ways, most commonly in \"if statements\" and loops.\n",
        "\n",
        "An \"if statement\" is written by using the if keyword."
      ]
    },
    {
      "cell_type": "code",
      "execution_count": null,
      "id": "48daf156",
      "metadata": {
        "id": "48daf156",
        "outputId": "4c5a60bc-8d57-41df-bf13-b89c2ac19de3"
      },
      "outputs": [
        {
          "name": "stdout",
          "output_type": "stream",
          "text": [
            "b is greater than a\n"
          ]
        }
      ],
      "source": [
        "#If statement\n",
        "\n",
        "\n",
        "a = 33\n",
        "b = 200\n",
        "if b > a:\n",
        "  print(\"b is greater than a\")"
      ]
    },
    {
      "cell_type": "markdown",
      "id": "c83c7952",
      "metadata": {
        "id": "c83c7952"
      },
      "source": [
        "In this example we use two variables, a and b, which are used as part of the if statement to test whether b is greater than a. As a is 33, and b is 200, we know that 200 is greater than 33, and so we print to screen that \"b is greater than a\"."
      ]
    },
    {
      "cell_type": "code",
      "execution_count": null,
      "id": "539a293b",
      "metadata": {
        "id": "539a293b",
        "outputId": "863c8488-75ea-4ee2-82c4-05b8bded7e76"
      },
      "outputs": [
        {
          "name": "stdout",
          "output_type": "stream",
          "text": [
            "a and b are equal\n"
          ]
        }
      ],
      "source": [
        "#if else statement\n",
        "\n",
        "\n",
        "a = 33\n",
        "b = 33\n",
        "if b > a:\n",
        "  print(\"b is greater than a\")\n",
        "else:\n",
        "  print(\"a and b are equal\")"
      ]
    },
    {
      "cell_type": "code",
      "execution_count": null,
      "id": "e42adce2",
      "metadata": {
        "id": "e42adce2",
        "outputId": "989bfe5c-94c6-4d2b-a1f7-30ba11162958"
      },
      "outputs": [
        {
          "name": "stdout",
          "output_type": "stream",
          "text": [
            "a is greater than b\n"
          ]
        }
      ],
      "source": [
        "#Elif statement\n",
        "\n",
        "\n",
        "a = 200\n",
        "b = 33\n",
        "if b > a:\n",
        "  print(\"b is greater than a\")\n",
        "elif a == b:\n",
        "  print(\"a and b are equal\")\n",
        "else:\n",
        "  print(\"a is greater than b\")"
      ]
    },
    {
      "cell_type": "markdown",
      "id": "8f0ef729",
      "metadata": {
        "id": "8f0ef729"
      },
      "source": [
        "In this example a is greater than b, so the first condition is not true, also the elif condition is not true, so we go to the else condition and print to screen that \"a is greater than b\"."
      ]
    },
    {
      "cell_type": "raw",
      "id": "d8d17378",
      "metadata": {
        "id": "d8d17378"
      },
      "source": [
        "You can also have an elif without the else:"
      ]
    },
    {
      "cell_type": "code",
      "execution_count": null,
      "id": "5928661c",
      "metadata": {
        "id": "5928661c",
        "outputId": "44f56f63-1b8f-4ddd-ad24-a333b8e50707"
      },
      "outputs": [
        {
          "name": "stdout",
          "output_type": "stream",
          "text": [
            "a and b are equal\n"
          ]
        }
      ],
      "source": [
        "a = 33\n",
        "b = 33\n",
        "if b > a:\n",
        "  print(\"b is greater than a\")\n",
        "elif a == b:\n",
        "  print(\"a and b are equal\")"
      ]
    },
    {
      "cell_type": "markdown",
      "id": "91c714bb",
      "metadata": {
        "id": "91c714bb"
      },
      "source": [
        "excersise\n",
        "\n",
        "\n",
        "Write a program to find largest among three numbers\n",
        "\n",
        "\n",
        "Write a program to check whether a number is even or odd\n"
      ]
    },
    {
      "cell_type": "code",
      "execution_count": null,
      "id": "2a491dc1",
      "metadata": {
        "id": "2a491dc1",
        "outputId": "069e61ea-c1a9-4f36-bc0c-0cc2892e1551"
      },
      "outputs": [
        {
          "name": "stdout",
          "output_type": "stream",
          "text": [
            "The largest number is 14\n"
          ]
        }
      ],
      "source": [
        "# change the values of num1, num2 and num3\n",
        "# for a different result\n",
        "num1 = 10\n",
        "num2 = 14\n",
        "num3 = 12\n",
        "\n",
        "# uncomment following lines to take three numbers from user\n",
        "#num1 = float(input(\"Enter first number: \"))\n",
        "#num2 = float(input(\"Enter second number: \"))\n",
        "#num3 = float(input(\"Enter third number: \"))\n",
        "\n",
        "if (num1 >= num2) and (num1 >= num3):\n",
        "   largest = num1\n",
        "elif (num2 >= num1) and (num2 >= num3):\n",
        "   largest = num2\n",
        "else:\n",
        "   largest = num3\n",
        "\n",
        "print(\"The largest number is\", largest)"
      ]
    },
    {
      "cell_type": "markdown",
      "id": "b8e9bc7a",
      "metadata": {
        "id": "b8e9bc7a"
      },
      "source": [
        "Nested if"
      ]
    },
    {
      "cell_type": "markdown",
      "id": "77877e6b",
      "metadata": {
        "id": "77877e6b"
      },
      "source": [
        "You can have if statements inside if statements, this is called nested if statements."
      ]
    },
    {
      "cell_type": "code",
      "execution_count": null,
      "id": "c9dbfe85",
      "metadata": {
        "id": "c9dbfe85",
        "outputId": "c1dddfd5-fa21-48b9-f0b9-06aa7627465e"
      },
      "outputs": [
        {
          "name": "stdout",
          "output_type": "stream",
          "text": [
            "Above ten,\n",
            "and also above 20!\n"
          ]
        }
      ],
      "source": [
        "x = 41\n",
        "\n",
        "if x > 10:\n",
        "  print(\"Above ten,\")\n",
        "  if x > 20:\n",
        "    print(\"and also above 20!\")\n",
        "  else:\n",
        "    print(\"but not above 20.\")"
      ]
    },
    {
      "cell_type": "code",
      "execution_count": null,
      "id": "fcb2ad77",
      "metadata": {
        "id": "fcb2ad77",
        "outputId": "ef367963-8e6b-4907-8016-e8f9e5890943"
      },
      "outputs": [
        {
          "name": "stdout",
          "output_type": "stream",
          "text": [
            "Enter a number: 5\n",
            "Positive number\n"
          ]
        }
      ],
      "source": [
        "#Write a Python Program to Check if a Number is Positive, Negative or 0.\n",
        "#Using if...elif...else\n",
        "num = float(input(\"Enter a number: \"))\n",
        "if num > 0:\n",
        "   print(\"Positive number\")\n",
        "elif num == 0:\n",
        "   print(\"Zero\")\n",
        "else:\n",
        "   print(\"Negative number\")"
      ]
    },
    {
      "cell_type": "code",
      "execution_count": null,
      "id": "7753a218",
      "metadata": {
        "id": "7753a218"
      },
      "outputs": [],
      "source": [
        "#Python Loops\n",
        "\n",
        "Python has two primitive loop commands:\n",
        "\n",
        "while loops\n",
        "for loops"
      ]
    },
    {
      "cell_type": "markdown",
      "id": "33841c43",
      "metadata": {
        "id": "33841c43"
      },
      "source": [
        "The while Loop\n",
        "\n",
        "\n",
        "With the while loop we can execute a set of statements as long as a condition is true.\n",
        "\n",
        "Same part of code is executed again and again. Different type of loops in Python.\n",
        "for loop, for loop with else, while loop, while loop with else. Before learning loops, it is helpful  to learn a few things."
      ]
    },
    {
      "cell_type": "markdown",
      "id": "d49ba496",
      "metadata": {
        "id": "d49ba496"
      },
      "source": [
        "range():\n",
        "\n",
        "\n",
        "Syntax: range(start,end,step)\n",
        "\n",
        "\n",
        "when using range(10), keep in mind that\n",
        "\n",
        "default start = 0\n",
        "\n",
        "default step = 1\n",
        "\n",
        "and end = 10"
      ]
    },
    {
      "cell_type": "code",
      "execution_count": null,
      "id": "3e127572",
      "metadata": {
        "id": "3e127572",
        "outputId": "bdfd0503-bbf7-4ca1-ea8f-108dc6d066f5"
      },
      "outputs": [
        {
          "data": {
            "text/plain": [
              "[0, 1, 2, 3, 4, 5, 6, 7, 8, 9]"
            ]
          },
          "execution_count": 3,
          "metadata": {},
          "output_type": "execute_result"
        }
      ],
      "source": [
        "list(range(10))"
      ]
    },
    {
      "cell_type": "code",
      "execution_count": null,
      "id": "91159969",
      "metadata": {
        "id": "91159969",
        "outputId": "2b927f44-d466-497d-82fb-105c34e2c927"
      },
      "outputs": [
        {
          "data": {
            "text/plain": [
              "[2, 3, 4, 5]"
            ]
          },
          "execution_count": 4,
          "metadata": {},
          "output_type": "execute_result"
        }
      ],
      "source": [
        "list(range(2,6))"
      ]
    },
    {
      "cell_type": "code",
      "execution_count": null,
      "id": "d4124073",
      "metadata": {
        "id": "d4124073",
        "outputId": "ff5c1823-8979-4c3a-95f5-2f2f8b12a8d2"
      },
      "outputs": [
        {
          "data": {
            "text/plain": [
              "[10, 20, 30, 40, 50, 60, 70, 80, 90]"
            ]
          },
          "execution_count": 5,
          "metadata": {},
          "output_type": "execute_result"
        }
      ],
      "source": [
        "list(range(10,100,10))"
      ]
    },
    {
      "cell_type": "markdown",
      "id": "703646c3",
      "metadata": {
        "id": "703646c3"
      },
      "source": [
        "Loop control Statement\n",
        "\n",
        "break.\n",
        "\n",
        "continue.\n",
        "\n",
        "pass.\n",
        "\n",
        "Break Statement\n",
        "\n",
        "It brings control out of the loop"
      ]
    },
    {
      "cell_type": "code",
      "execution_count": null,
      "id": "9b973030",
      "metadata": {
        "id": "9b973030",
        "outputId": "af569dc6-cb2d-484d-97e2-edb487275acf"
      },
      "outputs": [
        {
          "name": "stdout",
          "output_type": "stream",
          "text": [
            "1\n",
            "2\n",
            "3\n"
          ]
        }
      ],
      "source": [
        "#Exit the loop when i is 3\n",
        "i = 1\n",
        "while i < 6:\n",
        "  print(i)\n",
        "  if i == 3:\n",
        "    break\n",
        "  i += 1"
      ]
    },
    {
      "cell_type": "markdown",
      "id": "3a67c1fd",
      "metadata": {
        "id": "3a67c1fd"
      },
      "source": [
        "#Continue Statement\n",
        "With the continue statement we can stop the current iteration, and continue with the next:\n",
        "    \n",
        "It returns the control to the beginning of the loop"
      ]
    },
    {
      "cell_type": "code",
      "execution_count": null,
      "id": "279890eb",
      "metadata": {
        "id": "279890eb",
        "outputId": "199e708c-a470-43a0-f574-5903a40aa35e"
      },
      "outputs": [
        {
          "name": "stdout",
          "output_type": "stream",
          "text": [
            "1\n",
            "2\n",
            "4\n",
            "5\n",
            "6\n"
          ]
        }
      ],
      "source": [
        "#Continue to the next iteration if i is 3:\n",
        "\n",
        "i = 0\n",
        "while i < 6:\n",
        "  i += 1\n",
        "  if i == 3:\n",
        "    continue\n",
        "  print(i)"
      ]
    },
    {
      "cell_type": "markdown",
      "id": "53a9b222",
      "metadata": {
        "id": "53a9b222"
      },
      "source": [
        "#Pass Statement\n",
        "\n",
        "We use pass statement to write empty loops. Pass is also used for empty control statement, function\n",
        "\n",
        "and classes."
      ]
    },
    {
      "cell_type": "code",
      "execution_count": null,
      "id": "9ac054f9",
      "metadata": {
        "id": "9ac054f9",
        "outputId": "658f25c9-67bb-4338-ead3-2ede1d479414"
      },
      "outputs": [
        {
          "name": "stdout",
          "output_type": "stream",
          "text": [
            "hi\n"
          ]
        }
      ],
      "source": [
        "ls=[0,1,2,3,4,5,6,7,8,9]\n",
        "\n",
        "for i in ls:\n",
        "    if i==4:\n",
        "        print('hi')\n",
        "        pass\n",
        "        \n"
      ]
    },
    {
      "cell_type": "markdown",
      "id": "4a864096",
      "metadata": {
        "id": "4a864096"
      },
      "source": [
        "for loop\n",
        "\n",
        "Syntax:\n",
        "    \n",
        "for i in iterable:\n",
        "    \n",
        "statements\n",
        "\n",
        "iterables can be lists, strings, dictionaries etc. An iterable can be created using the range() method\n",
        "\n",
        "mentioned above.\n"
      ]
    },
    {
      "cell_type": "code",
      "execution_count": null,
      "id": "fe368421",
      "metadata": {
        "id": "fe368421",
        "outputId": "1f7ff97f-6bdf-4795-e1c7-a888b893a9d6"
      },
      "outputs": [
        {
          "name": "stdout",
          "output_type": "stream",
          "text": [
            "0\n",
            "1\n",
            "2\n",
            "3\n",
            "4\n"
          ]
        }
      ],
      "source": [
        "for i in range(5):\n",
        "    print(i)\n"
      ]
    },
    {
      "cell_type": "code",
      "execution_count": null,
      "id": "80a0e1d0",
      "metadata": {
        "id": "80a0e1d0",
        "outputId": "f23c8a57-c9a2-4cff-8038-98fc1c7b9f42"
      },
      "outputs": [
        {
          "name": "stdout",
          "output_type": "stream",
          "text": [
            "5\n",
            "6\n",
            "9\n",
            "11\n",
            "3\n"
          ]
        }
      ],
      "source": [
        "list=[3,4,7,9,1]\n",
        "for i in list:\n",
        "    s=i+2\n",
        "    print(s)"
      ]
    },
    {
      "cell_type": "markdown",
      "id": "0905e2e8",
      "metadata": {
        "id": "0905e2e8"
      },
      "source": [
        "#For loop with else\n",
        "\n",
        "The else keyword in a for loop specifies a block of code to be executed when the loop is finished."
      ]
    },
    {
      "cell_type": "code",
      "execution_count": null,
      "id": "1d95b1d8",
      "metadata": {
        "id": "1d95b1d8",
        "outputId": "1527f6d8-473c-4f5e-b7d1-2d6ff62a5015"
      },
      "outputs": [
        {
          "name": "stdout",
          "output_type": "stream",
          "text": [
            "0\n",
            "1\n",
            "2\n",
            "3\n",
            "4\n",
            "5\n",
            "Finally finished!\n"
          ]
        }
      ],
      "source": [
        "#Print all numbers from 0 to 5, and print a message when the loop has ended:\n",
        "for x in range(6):\n",
        "  print(x)\n",
        "else:\n",
        "  print(\"Finally finished!\")"
      ]
    },
    {
      "cell_type": "markdown",
      "id": "fd09942a",
      "metadata": {
        "id": "fd09942a"
      },
      "source": [
        "while Loop\n",
        "\n",
        "\n",
        "With the while loop we can execute a set of statements as long as the condition is true.\n",
        "\n",
        "Syntax:\n",
        "    \n",
        "    \n",
        "while(condition):\n",
        "\n",
        "statements"
      ]
    },
    {
      "cell_type": "code",
      "execution_count": null,
      "id": "cbba02dd",
      "metadata": {
        "id": "cbba02dd",
        "outputId": "ded44013-dcfd-4270-82b3-1d132d68059e"
      },
      "outputs": [
        {
          "name": "stdout",
          "output_type": "stream",
          "text": [
            "1\n",
            "2\n",
            "3\n",
            "4\n",
            "5\n"
          ]
        }
      ],
      "source": [
        "#Print all numbers from 0 to 5, and print a message when the loop has ended:\n",
        "\n",
        "i = 1\n",
        "while i < 6:\n",
        "  print(i)\n",
        "  i += 1"
      ]
    },
    {
      "cell_type": "markdown",
      "id": "abb0c3d6",
      "metadata": {
        "id": "abb0c3d6"
      },
      "source": [
        "#while - else Loop\n",
        "\n",
        "\n",
        "With the else statement we can run a block of code once when the condition no longer is true."
      ]
    },
    {
      "cell_type": "code",
      "execution_count": null,
      "id": "0d804d69",
      "metadata": {
        "id": "0d804d69",
        "outputId": "7c65a799-2e02-4e6c-ff6a-46d71ec19771"
      },
      "outputs": [
        {
          "name": "stdout",
          "output_type": "stream",
          "text": [
            "1\n",
            "2\n",
            "3\n",
            "4\n",
            "5\n",
            "i is no longer less than 6\n"
          ]
        }
      ],
      "source": [
        "#Print a message once the condition is false:\n",
        "\n",
        "i = 1\n",
        "while i < 6:\n",
        "  print(i)\n",
        "  i += 1\n",
        "else:\n",
        "  print(\"i is no longer less than 6\")"
      ]
    },
    {
      "cell_type": "code",
      "execution_count": null,
      "id": "ab20cba5",
      "metadata": {
        "id": "ab20cba5",
        "outputId": "1b901a04-78ec-451f-c004-191a5968180d"
      },
      "outputs": [
        {
          "name": "stdout",
          "output_type": "stream",
          "text": [
            "12 x 1 = 12\n",
            "12 x 2 = 24\n",
            "12 x 3 = 36\n",
            "12 x 4 = 48\n",
            "12 x 5 = 60\n",
            "12 x 6 = 72\n",
            "12 x 7 = 84\n",
            "12 x 8 = 96\n",
            "12 x 9 = 108\n",
            "12 x 10 = 120\n"
          ]
        }
      ],
      "source": [
        "#Write a program to display multiplication table.\n",
        "\n",
        "\n",
        "\n",
        "num = 12\n",
        "\n",
        "# To take input from the user\n",
        "# num = int(input(\"Display multiplication table of? \"))\n",
        "\n",
        "# Iterate 10 times from i = 1 to 10\n",
        "for i in range(1, 11):\n",
        "   print(num, 'x', i, '=', num*i)"
      ]
    },
    {
      "cell_type": "raw",
      "id": "5aa2440b",
      "metadata": {
        "id": "5aa2440b"
      },
      "source": [
        ".Functions in Python"
      ]
    },
    {
      "cell_type": "markdown",
      "id": "b44fc252",
      "metadata": {
        "id": "b44fc252"
      },
      "source": [
        "It is a logical unit of code containing a sequence of statements indented under a name given using\n",
        "the “def” keyword. Functions allow you to create a logical division of a big project into smaller\n",
        "modules. They make your code more manageable and extensible. It prevents you from adding\n",
        "duplicate code and promotes reusability.\n",
        "\n",
        "\n",
        "A function is a block of code which only runs when it is called.\n",
        "\n",
        "You can pass data, known as parameters, into a function.\n",
        "\n",
        "A function can return data as a result."
      ]
    },
    {
      "cell_type": "raw",
      "id": "85616abf",
      "metadata": {
        "id": "85616abf"
      },
      "source": [
        "How to Create a Function\n",
        "\n",
        "\n",
        "Syntax: def FunctionName (arg1,arg2, . . . ,argn) : function statement 1 function statement 2 .. .. ..\n",
        "        \n",
        "        \n",
        "function statement n return somevalue"
      ]
    },
    {
      "cell_type": "markdown",
      "id": "e9ed5052",
      "metadata": {
        "id": "e9ed5052"
      },
      "source": [
        "In Python a function is defined using the def keyword:"
      ]
    },
    {
      "cell_type": "code",
      "execution_count": null,
      "id": "60f87f61",
      "metadata": {
        "id": "60f87f61"
      },
      "outputs": [],
      "source": [
        "def my_function():\n",
        "  print(\"Hello from a function\")"
      ]
    },
    {
      "cell_type": "code",
      "source": [
        "def myfunction():\n",
        "  print(\"your name:shayan\")"
      ],
      "metadata": {
        "id": "5huVDmf3YaRH"
      },
      "id": "5huVDmf3YaRH",
      "execution_count": null,
      "outputs": []
    },
    {
      "cell_type": "markdown",
      "id": "756fa45b",
      "metadata": {
        "id": "756fa45b"
      },
      "source": [
        "Calling a Function\n",
        "\n",
        "\n",
        "To call a function, use the function name followed by parenthesis:"
      ]
    },
    {
      "cell_type": "code",
      "execution_count": null,
      "id": "1b46da95",
      "metadata": {
        "id": "1b46da95",
        "outputId": "79f78b60-819b-4a92-d375-6115a67513f7"
      },
      "outputs": [
        {
          "name": "stdout",
          "output_type": "stream",
          "text": [
            "Hello from a function\n"
          ]
        }
      ],
      "source": [
        "def my_function():\n",
        "  print(\"Hello from a function\")\n",
        "\n",
        "my_function()"
      ]
    },
    {
      "cell_type": "code",
      "source": [
        "def my_function():\n",
        "  print(\"shayan\")\n",
        "\n",
        "my_function()"
      ],
      "metadata": {
        "colab": {
          "base_uri": "https://localhost:8080/"
        },
        "id": "loujL1PvY1sC",
        "outputId": "ec1a9613-34de-4f14-e1c7-158da75ddd3d"
      },
      "id": "loujL1PvY1sC",
      "execution_count": null,
      "outputs": [
        {
          "output_type": "stream",
          "name": "stdout",
          "text": [
            "shayan\n"
          ]
        }
      ]
    },
    {
      "cell_type": "code",
      "source": [
        "def my_function1():\n",
        "  print(\"python is a programming langauge\")\n",
        "\n",
        "my_function1()\n"
      ],
      "metadata": {
        "colab": {
          "base_uri": "https://localhost:8080/"
        },
        "id": "H0ZYbCPNZEqJ",
        "outputId": "a8e5c3e8-dd67-4750-8065-7488e3cde10b"
      },
      "id": "H0ZYbCPNZEqJ",
      "execution_count": null,
      "outputs": [
        {
          "output_type": "stream",
          "name": "stdout",
          "text": [
            "python is a programming langauge\n"
          ]
        }
      ]
    },
    {
      "cell_type": "raw",
      "id": "f4e48baf",
      "metadata": {
        "id": "f4e48baf"
      },
      "source": [
        "what does return() do?\n",
        "\n",
        "A return statement is used to end the execution of the function call\n",
        "and “returns” the result (value of the expression following the return keyword) to the caller. \n",
        "\n",
        "The statements after the return statements are not executed. If the return statement is without any\n",
        "expression, then the special value None is returned."
      ]
    },
    {
      "cell_type": "code",
      "source": [
        ""
      ],
      "metadata": {
        "id": "-dUj-Y_sZRLj"
      },
      "id": "-dUj-Y_sZRLj",
      "execution_count": null,
      "outputs": []
    },
    {
      "cell_type": "markdown",
      "id": "6e753056",
      "metadata": {
        "id": "6e753056"
      },
      "source": [
        "Arguments"
      ]
    },
    {
      "cell_type": "markdown",
      "id": "2528c72b",
      "metadata": {
        "id": "2528c72b"
      },
      "source": [
        "Information can be passed into functions as arguments.\n",
        "\n",
        "Arguments are specified after the function name, inside the parentheses. You can add as many arguments as you want, just separate them with a comma.\n",
        "\n",
        "The following example has a function with one argument (fname). When the function is called, we pass along a first name, which is used inside the function to print the full name:"
      ]
    },
    {
      "cell_type": "code",
      "execution_count": null,
      "id": "1fc8e4da",
      "metadata": {
        "id": "1fc8e4da",
        "outputId": "2ae397ba-9a3d-4cf3-c1bd-4803e963c873"
      },
      "outputs": [
        {
          "name": "stdout",
          "output_type": "stream",
          "text": [
            "Emil Refsnes\n",
            "Tobias Refsnes\n",
            "Linus Refsnes\n"
          ]
        }
      ],
      "source": [
        "def my_function(fname):\n",
        "  print(fname + \" Refsnes\")\n",
        "\n",
        "my_function(\"Emil\")\n",
        "my_function(\"Tobias\")\n",
        "my_function(\"Linus\")"
      ]
    },
    {
      "cell_type": "code",
      "source": [
        "def my_function(fname):\n",
        "  print(fname +  \"Meem academia\")\n",
        "  \n",
        "\n",
        "my_function(\"Email\")\n",
        "my_function(\"number\")\n",
        "my_function(\"website\")\n"
      ],
      "metadata": {
        "colab": {
          "base_uri": "https://localhost:8080/"
        },
        "id": "kFpVlqZdaQ9B",
        "outputId": "a446273c-fe21-41f0-8ae9-7250fd8fe662"
      },
      "id": "kFpVlqZdaQ9B",
      "execution_count": null,
      "outputs": [
        {
          "output_type": "stream",
          "name": "stdout",
          "text": [
            "EmailMeem academia\n",
            "numberMeem academia\n",
            "websiteMeem academia\n"
          ]
        }
      ]
    },
    {
      "cell_type": "code",
      "execution_count": null,
      "id": "4dbdf0a8",
      "metadata": {
        "id": "4dbdf0a8"
      },
      "outputs": [],
      "source": [
        "def simFun1(num1, num2):\n",
        "    print('Printing Summation')\n",
        "    print(num1,' & ',num2)\n",
        "    return num1+num2"
      ]
    },
    {
      "cell_type": "markdown",
      "id": "a6085a04",
      "metadata": {
        "id": "a6085a04"
      },
      "source": [
        "Call by Value\n",
        "\n",
        "When we pass arguments like whole numbers, strings or tuples to a function, the passing is like\n",
        "call-by-value because you cannot change the value of the immutable objects being passed to the\n",
        "function. \n",
        "\n",
        "A local isolated copy of the arguments is created within the function. These copies have\n",
        "no scope outside the function."
      ]
    },
    {
      "cell_type": "code",
      "execution_count": null,
      "id": "008badd3",
      "metadata": {
        "colab": {
          "base_uri": "https://localhost:8080/"
        },
        "id": "008badd3",
        "outputId": "c934d62d-a849-47b0-e77b-af331d2de63f"
      },
      "outputs": [
        {
          "output_type": "stream",
          "name": "stdout",
          "text": [
            "Welcome\n",
            "Inside Function: Welcome to the world of python\n",
            "Outside Function: Welcome\n"
          ]
        }
      ],
      "source": [
        "def test(string):\n",
        "    print(string)\n",
        "    string = \"Welcome to the world of python\"\n",
        "    print(\"Inside Function:\", string) \n",
        "    \n",
        "string = \"Welcome\"\n",
        "\n",
        "test(string) \n",
        "print(\"Outside Function:\", string) "
      ]
    },
    {
      "cell_type": "code",
      "source": [
        "def test(string):\n",
        "  print(string)\n",
        "  string=\"my name is shayan\"\n",
        "  print(\"inside function:\",string)\n",
        "string=\"name\"\n",
        "test(string)\n",
        "print(\"outside function:\",string)"
      ],
      "metadata": {
        "colab": {
          "base_uri": "https://localhost:8080/"
        },
        "id": "leKHsJWObWHD",
        "outputId": "e47eba0f-fd95-495a-b032-7827c0709da5"
      },
      "id": "leKHsJWObWHD",
      "execution_count": null,
      "outputs": [
        {
          "output_type": "stream",
          "name": "stdout",
          "text": [
            "name\n",
            "inside function: my name is shayan\n",
            "outside function: name\n"
          ]
        }
      ]
    },
    {
      "cell_type": "raw",
      "id": "ee85e9c8",
      "metadata": {
        "id": "ee85e9c8"
      },
      "source": [
        "call by reference\n",
        "When we passing mutable objects can be considered as call by reference because when their values are changed inside the\n",
        "\n",
        "function, then it will also be reflected outside the function."
      ]
    },
    {
      "cell_type": "code",
      "execution_count": null,
      "id": "10b91e3b",
      "metadata": {
        "colab": {
          "base_uri": "https://localhost:8080/"
        },
        "id": "10b91e3b",
        "outputId": "67595846-cbed-442e-81ee-a0712110b641"
      },
      "outputs": [
        {
          "output_type": "stream",
          "name": "stdout",
          "text": [
            "inside function [10, 20, 30, 40, 50]\n",
            "Outside Function: [10, 20, 30, 40, 50]\n"
          ]
        }
      ],
      "source": [
        "list1 = [10,20,30,40]\n",
        "\n",
        "def add_more(lis): \n",
        "    lis.append(50)\n",
        "    print( \"inside function\",lis) \n",
        "add_more(list1)\n",
        "print(\"Outside Function:\", list1)"
      ]
    },
    {
      "cell_type": "code",
      "execution_count": null,
      "id": "47ef90d3",
      "metadata": {
        "id": "47ef90d3",
        "outputId": "1cdc7bf5-4e69-4833-9970-144270dec6a8"
      },
      "outputs": [
        {
          "name": "stdout",
          "output_type": "stream",
          "text": [
            "Inside the function  {1, 2, 3, 30}\n",
            "Outside the function  {1, 2, 3, 30}\n"
          ]
        }
      ],
      "source": [
        "set1 = {1,2,3}\n",
        "def add1(s1):\n",
        "    s1.add(30)\n",
        "    print(\"Inside the function \",s1)\n",
        "add1(set1)\n",
        "print(\"Outside the function \",set1)"
      ]
    },
    {
      "cell_type": "raw",
      "id": "5ddf5d7f",
      "metadata": {
        "id": "5ddf5d7f"
      },
      "source": [
        "Modules\n",
        "\n",
        "\n",
        "Some built-in modules To use any module, use import"
      ]
    },
    {
      "cell_type": "markdown",
      "id": "21ea1bc1",
      "metadata": {
        "id": "21ea1bc1"
      },
      "source": [
        "Math\n",
        "\n",
        "\n",
        "Python has a built-in module that you can use for mathematical tasks. The math module has a set\n",
        "of methods and constants."
      ]
    },
    {
      "cell_type": "code",
      "execution_count": null,
      "id": "277eca51",
      "metadata": {
        "id": "277eca51",
        "outputId": "15ecf2e4-3a24-490f-b3a4-19c40621f49b"
      },
      "outputs": [
        {
          "data": {
            "text/plain": [
              "16.0"
            ]
          },
          "execution_count": 33,
          "metadata": {},
          "output_type": "execute_result"
        }
      ],
      "source": [
        "import math\n",
        "math.pow(2,4)"
      ]
    },
    {
      "cell_type": "code",
      "source": [
        "import math\n",
        "math.pow(1,2)"
      ],
      "metadata": {
        "colab": {
          "base_uri": "https://localhost:8080/"
        },
        "id": "GzwdB0S4enm5",
        "outputId": "cc00b1fc-937e-4f11-c272-3dc87363468d"
      },
      "id": "GzwdB0S4enm5",
      "execution_count": null,
      "outputs": [
        {
          "output_type": "execute_result",
          "data": {
            "text/plain": [
              "1.0"
            ]
          },
          "metadata": {},
          "execution_count": 29
        }
      ]
    },
    {
      "cell_type": "code",
      "execution_count": null,
      "id": "0eed1e4d",
      "metadata": {
        "id": "0eed1e4d",
        "outputId": "82d52546-bf1e-4a01-95b9-2f4fb161320e"
      },
      "outputs": [
        {
          "data": {
            "text/plain": [
              "4.0"
            ]
          },
          "execution_count": 34,
          "metadata": {},
          "output_type": "execute_result"
        }
      ],
      "source": [
        "math.sqrt(16)"
      ]
    },
    {
      "cell_type": "markdown",
      "id": "a2a687a3",
      "metadata": {
        "id": "a2a687a3"
      },
      "source": [
        "There are many more functions in the modules. As an exercise, type help() to the prompt. If\n",
        "you type in math into the help box, all the different functions available will be listed. Try at least\n",
        "five different functions from them."
      ]
    },
    {
      "cell_type": "code",
      "execution_count": null,
      "id": "a813676d",
      "metadata": {
        "id": "a813676d",
        "outputId": "cf5d3e37-4004-4265-c7c9-fb37ec29a02f"
      },
      "outputs": [
        {
          "name": "stdout",
          "output_type": "stream",
          "text": [
            "\n",
            "Welcome to Python 3.8's help utility!\n",
            "\n",
            "If this is your first time using Python, you should definitely check out\n",
            "the tutorial on the Internet at https://docs.python.org/3.8/tutorial/.\n",
            "\n",
            "Enter the name of any module, keyword, or topic to get help on writing\n",
            "Python programs and using Python modules.  To quit this help utility and\n",
            "return to the interpreter, just type \"quit\".\n",
            "\n",
            "To get a list of available modules, keywords, symbols, or topics, type\n",
            "\"modules\", \"keywords\", \"symbols\", or \"topics\".  Each module also comes\n",
            "with a one-line summary of what it does; to list the modules whose name\n",
            "or summary contain a given string such as \"spam\", type \"modules spam\".\n",
            "\n"
          ]
        }
      ],
      "source": [
        "help()"
      ]
    },
    {
      "cell_type": "markdown",
      "id": "f880f308",
      "metadata": {
        "id": "f880f308"
      },
      "source": [
        "Random\n",
        "\n",
        "\n",
        "This module has functions that can implement pseudo-random number generators."
      ]
    },
    {
      "cell_type": "code",
      "execution_count": null,
      "id": "49e7d957",
      "metadata": {
        "colab": {
          "base_uri": "https://localhost:8080/"
        },
        "id": "49e7d957",
        "outputId": "dccc642c-6e9e-4781-8aa8-c5bb0ee4a0fb"
      },
      "outputs": [
        {
          "output_type": "execute_result",
          "data": {
            "text/plain": [
              "534"
            ]
          },
          "metadata": {},
          "execution_count": 41
        }
      ],
      "source": [
        "import random\n",
        "random.randint(0,1000)"
      ]
    },
    {
      "cell_type": "code",
      "source": [
        "import random\n",
        "random.randint(0,100)"
      ],
      "metadata": {
        "colab": {
          "base_uri": "https://localhost:8080/"
        },
        "id": "GECehHj2fBsy",
        "outputId": "1cee9713-cbc0-4485-f345-fbeefac1f912"
      },
      "id": "GECehHj2fBsy",
      "execution_count": null,
      "outputs": [
        {
          "output_type": "execute_result",
          "data": {
            "text/plain": [
              "61"
            ]
          },
          "metadata": {},
          "execution_count": 36
        }
      ]
    },
    {
      "cell_type": "code",
      "execution_count": null,
      "id": "99ab3c82",
      "metadata": {
        "colab": {
          "base_uri": "https://localhost:8080/"
        },
        "id": "99ab3c82",
        "outputId": "599a2189-863a-4ce4-f063-d98a2cf5987b"
      },
      "outputs": [
        {
          "output_type": "execute_result",
          "data": {
            "text/plain": [
              "0.7773298176100241"
            ]
          },
          "metadata": {},
          "execution_count": 39
        }
      ],
      "source": [
        "random.random()"
      ]
    },
    {
      "cell_type": "markdown",
      "id": "f13a75ed",
      "metadata": {
        "id": "f13a75ed"
      },
      "source": [
        "Datetime\n",
        "\n",
        "\n",
        "It delivers tools that make it easier to work with dates and times."
      ]
    },
    {
      "cell_type": "code",
      "execution_count": null,
      "id": "59041664",
      "metadata": {
        "id": "59041664"
      },
      "outputs": [],
      "source": [
        "from datetime import datetime,timedelta,timezone"
      ]
    },
    {
      "cell_type": "code",
      "source": [
        ""
      ],
      "metadata": {
        "id": "h5mWLFtnfpES"
      },
      "id": "h5mWLFtnfpES",
      "execution_count": null,
      "outputs": []
    },
    {
      "cell_type": "code",
      "execution_count": null,
      "id": "fd827c78",
      "metadata": {
        "colab": {
          "base_uri": "https://localhost:8080/"
        },
        "id": "fd827c78",
        "outputId": "9203a3e8-c27b-4961-a90c-856a57031ecd"
      },
      "outputs": [
        {
          "output_type": "execute_result",
          "data": {
            "text/plain": [
              "datetime.datetime(2021, 12, 12, 11, 54, 51, 883525)"
            ]
          },
          "metadata": {},
          "execution_count": 43
        }
      ],
      "source": [
        "datetime.now()"
      ]
    },
    {
      "cell_type": "code",
      "execution_count": null,
      "id": "4059727b",
      "metadata": {
        "id": "4059727b"
      },
      "outputs": [],
      "source": [
        "date=datetime.now()"
      ]
    },
    {
      "cell_type": "code",
      "execution_count": null,
      "id": "4854edd5",
      "metadata": {
        "colab": {
          "base_uri": "https://localhost:8080/"
        },
        "id": "4854edd5",
        "outputId": "5dbe9872-7c7b-4d4d-98d8-7c8895ea899b"
      },
      "outputs": [
        {
          "output_type": "execute_result",
          "data": {
            "text/plain": [
              "datetime.datetime(2021, 12, 12, 11, 55, 23, 440561)"
            ]
          },
          "metadata": {},
          "execution_count": 45
        }
      ],
      "source": [
        "date"
      ]
    },
    {
      "cell_type": "code",
      "execution_count": null,
      "id": "80923bf4",
      "metadata": {
        "id": "80923bf4"
      },
      "outputs": [],
      "source": [
        ""
      ]
    }
  ],
  "metadata": {
    "kernelspec": {
      "display_name": "Python 3",
      "language": "python",
      "name": "python3"
    },
    "language_info": {
      "codemirror_mode": {
        "name": "ipython",
        "version": 3
      },
      "file_extension": ".py",
      "mimetype": "text/x-python",
      "name": "python",
      "nbconvert_exporter": "python",
      "pygments_lexer": "ipython3",
      "version": "3.8.8"
    },
    "colab": {
      "name": "Loops,Conditionals and functions.ipynb",
      "provenance": []
    }
  },
  "nbformat": 4,
  "nbformat_minor": 5
}