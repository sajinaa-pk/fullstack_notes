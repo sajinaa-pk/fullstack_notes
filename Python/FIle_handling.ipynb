{
  "cells": [
    {
      "cell_type": "raw",
      "metadata": {
        "id": "Y3Kw0NbxiRRO"
      },
      "source": [
        "1  Intro to files and file types\n",
        "\n",
        "\n",
        "2  Opening and closing of files\n",
        "\n",
        "\n",
        "\n",
        "3   File reading\n",
        "\n",
        "\n",
        "\n",
        "4  Setting offsets in a file\n",
        "\n",
        "\n",
        "\n",
        "5  Creating and traversing a text file"
      ]
    },
    {
      "cell_type": "markdown",
      "metadata": {
        "id": "MzNa15N5iRRa"
      },
      "source": [
        "# File handling\n",
        "\n",
        "File Handling is the storing of data in a file using a program\n",
        "\n",
        "File handling is an important part of any web application.\n",
        "\n",
        "Python has several functions for creating, reading, updating, and deleting files.\n",
        "\n"
      ]
    },
    {
      "cell_type": "markdown",
      "source": [
        ""
      ],
      "metadata": {
        "id": "DVGbsjDANNoV"
      }
    },
    {
      "cell_type": "raw",
      "metadata": {
        "id": "6zOMlYO0iRRd"
      },
      "source": [
        "# File Handling\n",
        "\n",
        "The key function for working with files in Python is the open() function.\n",
        "\n",
        "The open() function takes two parameters; filename, and mode.\n",
        "\n",
        "There are four different methods (modes) for opening a file:\n",
        "\n",
        "\"r\" - Read - Default value. Opens a file for reading, error if the file does not exist\n",
        "\n",
        "\"a\" - Append - Opens a file for appending, creates the file if it does not exist\n",
        "\n",
        "\"w\" - Write - Opens a file for writing, creates the file if it does not exist\n",
        "\n",
        "\"x\" - Create - Creates the specified file, returns an error if the file exists\n",
        "\n",
        "In addition you can specify if the file should be handled as binary or text mode\n",
        "\n",
        "\"t\" - Text - Default value. Text mode\n",
        "\n",
        "\"b\" - Binary - Binary mode (e.g. images)"
      ]
    },
    {
      "cell_type": "code",
      "execution_count": null,
      "metadata": {
        "id": "NCWp5U0aiRRf"
      },
      "outputs": [],
      "source": [
        "#o open a file for reading it is enough to specify the name of the file:\n",
        "\n",
        "  #syntax\n",
        "   #f = open(filename, mode)\n",
        "    \n",
        "#f = open(\"demofile.txt\")"
      ]
    },
    {
      "cell_type": "code",
      "execution_count": null,
      "metadata": {
        "colab": {
          "base_uri": "https://localhost:8080/",
          "height": 190
        },
        "id": "7meza2p0iRRh",
        "outputId": "3a6bfb3e-9fcc-495f-b432-7d1950800e95"
      },
      "outputs": [
        {
          "output_type": "error",
          "ename": "FileNotFoundError",
          "evalue": "ignored",
          "traceback": [
            "\u001b[0;31m---------------------------------------------------------------------------\u001b[0m",
            "\u001b[0;31mFileNotFoundError\u001b[0m                         Traceback (most recent call last)",
            "\u001b[0;32m<ipython-input-5-bd3b493f5fb4>\u001b[0m in \u001b[0;36m<module>\u001b[0;34m()\u001b[0m\n\u001b[0;32m----> 1\u001b[0;31m \u001b[0mf\u001b[0m \u001b[0;34m=\u001b[0m \u001b[0mopen\u001b[0m\u001b[0;34m(\u001b[0m\u001b[0;34m\"/home/dell/demo_file_.txt\"\u001b[0m\u001b[0;34m,\u001b[0m \u001b[0;34m\"rt\"\u001b[0m\u001b[0;34m)\u001b[0m\u001b[0;34m\u001b[0m\u001b[0;34m\u001b[0m\u001b[0m\n\u001b[0m\u001b[1;32m      2\u001b[0m \u001b[0;31m#Because \"r\" for read, and \"t\" for text are the default values, you do not need to specify them.\u001b[0m\u001b[0;34m\u001b[0m\u001b[0;34m\u001b[0m\u001b[0;34m\u001b[0m\u001b[0m\n",
            "\u001b[0;31mFileNotFoundError\u001b[0m: [Errno 2] No such file or directory: '/home/dell/demo_file_.txt'"
          ]
        }
      ],
      "source": [
        "f = open(\"/home/dell/demo_file_.txt\", \"rt\")\n",
        "#Because \"r\" for read, and \"t\" for text are the default values, you do not need to specify them."
      ]
    },
    {
      "cell_type": "code",
      "execution_count": null,
      "metadata": {
        "id": "QR7i6FboiRRi"
      },
      "outputs": [],
      "source": [
        "#create  a text file and download "
      ]
    },
    {
      "cell_type": "markdown",
      "metadata": {
        "id": "5Q06C8MZiRRj"
      },
      "source": [
        "# To open the file, use the built-in open() function.\n",
        "\n",
        "#The open() function returns a file object, which has a read() method for reading the content of the f"
      ]
    },
    {
      "cell_type": "code",
      "execution_count": null,
      "metadata": {
        "colab": {
          "base_uri": "https://localhost:8080/",
          "height": 190
        },
        "id": "doIK52u7iRRj",
        "outputId": "8c89b4fe-ac8a-45a8-816c-b5390dd7f693"
      },
      "outputs": [
        {
          "output_type": "error",
          "ename": "FileNotFoundError",
          "evalue": "ignored",
          "traceback": [
            "\u001b[0;31m---------------------------------------------------------------------------\u001b[0m",
            "\u001b[0;31mFileNotFoundError\u001b[0m                         Traceback (most recent call last)",
            "\u001b[0;32m<ipython-input-1-49d3dc3c7c63>\u001b[0m in \u001b[0;36m<module>\u001b[0;34m()\u001b[0m\n\u001b[0;32m----> 1\u001b[0;31m \u001b[0mf\u001b[0m \u001b[0;34m=\u001b[0m \u001b[0mopen\u001b[0m\u001b[0;34m(\u001b[0m\u001b[0;34m\"home/dell/Downloads/python _class_summary .txt\"\u001b[0m\u001b[0;34m,\u001b[0m \u001b[0;34m\"r\"\u001b[0m\u001b[0;34m)\u001b[0m\u001b[0;34m\u001b[0m\u001b[0;34m\u001b[0m\u001b[0m\n\u001b[0m\u001b[1;32m      2\u001b[0m \u001b[0mprint\u001b[0m\u001b[0;34m(\u001b[0m\u001b[0mf\u001b[0m\u001b[0;34m.\u001b[0m\u001b[0mread\u001b[0m\u001b[0;34m(\u001b[0m\u001b[0;34m)\u001b[0m\u001b[0;34m)\u001b[0m\u001b[0;34m\u001b[0m\u001b[0;34m\u001b[0m\u001b[0m\n",
            "\u001b[0;31mFileNotFoundError\u001b[0m: [Errno 2] No such file or directory: 'home/dell/Downloads/python _class_summary .txt'"
          ]
        }
      ],
      "source": [
        "passwf = open(\"home/dell/Downloads/python _class_summary .txt\", \"r\")\n",
        "print(f.read())\n"
      ]
    },
    {
      "cell_type": "code",
      "execution_count": null,
      "metadata": {
        "id": "OftLu2M7iRRl"
      },
      "outputs": [],
      "source": [
        "#If the file is located in a different location, you will have to specify the file path, like this:\n",
        "\n",
        "#Example\n",
        "#Open a file on a different location:\n",
        "\n",
        "f = open(\"//home//dell//Downloads///python _class_summary .txt\", \"r\")\n",
        "\n",
        "print(f.read())"
      ]
    },
    {
      "cell_type": "code",
      "execution_count": null,
      "metadata": {
        "id": "3ORvPqfXiRRm"
      },
      "outputs": [],
      "source": [
        "#Read Only Parts of the File\n",
        "\n",
        "\n",
        "#By default the read() method returns the whole text, but you can also specify how many characters you want to return:\n",
        "\n",
        "\n",
        "f = open(\"//home//dell//Downloads//untitled (2).txt\", \"r\")\n",
        "\n",
        "print(f.read(6))"
      ]
    },
    {
      "cell_type": "code",
      "execution_count": null,
      "metadata": {
        "id": "qFeAzIXKiRRn"
      },
      "outputs": [],
      "source": [
        "\n",
        "f = open(\"//home//dell//Downloads//untitled (2).txt\", \"r\")\n",
        "\n",
        "print(f.read(6))\n",
        "print(f.read()) #print from 7th letter"
      ]
    },
    {
      "cell_type": "markdown",
      "metadata": {
        "id": "KnQ1zUnEiRRo"
      },
      "source": [
        "# setting offset in a file \n",
        "\n",
        "to acces the data in a file we use functions \n",
        "\n",
        "\n",
        "two methods \n",
        "\n",
        "\n",
        "tell() and seek()\n"
      ]
    },
    {
      "cell_type": "code",
      "execution_count": null,
      "metadata": {
        "id": "tkffGp-XiRRp",
        "outputId": "b728f60f-1efb-4579-b638-492171eb9e9a"
      },
      "outputs": [
        {
          "name": "stdout",
          "output_type": "stream",
          "text": [
            "this i\n",
            "The current position is : 6\n",
            "s a trai file handling\n",
            "\n"
          ]
        }
      ],
      "source": [
        "#Tell()\n",
        "#to know the current position\n",
        "\n",
        "\n",
        "f = open(\"//home//dell//Downloads//untitled (2).txt\", \"r\")\n",
        "\n",
        "print(f.read(6))\n",
        "print(\"The current position is :\",f.tell())\n",
        "print(f.read())"
      ]
    },
    {
      "cell_type": "code",
      "execution_count": null,
      "metadata": {
        "id": "yyGJlqWYiRRq"
      },
      "outputs": [],
      "source": [
        "#seek\n",
        "#to go back to the zeroth letter or position\n",
        "f = open(\"//home//dell//Downloads//untitled (2).txt\", \"r\")\n",
        "\n",
        "print(f.read(6))\n",
        "print(\"The current position is :\",f.tell())\n",
        "f.seek(0)\n",
        "print(f.read())"
      ]
    },
    {
      "cell_type": "markdown",
      "metadata": {
        "id": "ZYX8yEZsiRRr"
      },
      "source": [
        "# Read Lines\n",
        "\n",
        "You can return one line by using the readline() method:\n",
        "\n"
      ]
    },
    {
      "cell_type": "code",
      "execution_count": null,
      "metadata": {
        "id": "UBnuQM4KiRRs",
        "outputId": "aa239a89-099b-4fa2-9479-00c880d09405"
      },
      "outputs": [
        {
          "name": "stdout",
          "output_type": "stream",
          "text": [
            "this is a trai file handling\n",
            "\n"
          ]
        }
      ],
      "source": [
        "#Example\n",
        "#Read one line of the file:\n",
        "\n",
        "f = open(\"//home//dell//Downloads//untitled (2).txt\", \"r\")\n",
        "print(f.readline())"
      ]
    },
    {
      "cell_type": "markdown",
      "metadata": {
        "id": "7JvusLodiRRs"
      },
      "source": [
        "# Close Files\n",
        "\n",
        "It is a good practice to always close the file when you are done with it.\n",
        "\n"
      ]
    },
    {
      "cell_type": "code",
      "execution_count": null,
      "metadata": {
        "id": "oG6onsWfiRRs",
        "outputId": "59847586-b769-40d0-e8c2-785d43f7ed7e"
      },
      "outputs": [
        {
          "name": "stdout",
          "output_type": "stream",
          "text": [
            "this is a trai file handling\n",
            "\n"
          ]
        }
      ],
      "source": [
        "#Example\n",
        "#Close the file when you are finish with it:\n",
        "\n",
        "f = open(\"//home//dell//Downloads//untitled (2).txt\", \"r\")\n",
        "print(f.readline())\n",
        "f.close()"
      ]
    },
    {
      "cell_type": "code",
      "execution_count": null,
      "metadata": {
        "id": "Mr_HKmv9iRRt",
        "outputId": "63e60d3f-7f58-41bd-b9a7-bb2c1e88df44"
      },
      "outputs": [
        {
          "name": "stdout",
          "output_type": "stream",
          "text": [
            "['this is a trai file handling\\n']\n"
          ]
        }
      ],
      "source": [
        "#print as a list\n",
        "f = open(\"//home//dell//Downloads//untitled (2).txt\", \"r\")\n",
        "print(f.readlines())\n",
        "f.close()"
      ]
    },
    {
      "cell_type": "code",
      "execution_count": null,
      "metadata": {
        "id": "uiBmP0OmiRRt",
        "outputId": "d24d0257-45c2-4e23-85d7-21894b21c399"
      },
      "outputs": [
        {
          "name": "stdout",
          "output_type": "stream",
          "text": [
            "this is a trai file handling\n",
            "\n"
          ]
        }
      ],
      "source": [
        "#close using context manager\n",
        "#its a good practice\n",
        "# with keyword  as fp/f:\n",
        "\n",
        "with open(\"//home//dell//Downloads//untitled (2).txt\", \"r\") as f:\n",
        "    print(f.read())\n",
        "\n"
      ]
    },
    {
      "cell_type": "markdown",
      "metadata": {
        "id": "UQ7z7DRoiRRu"
      },
      "source": [
        "# Write a file()"
      ]
    },
    {
      "cell_type": "markdown",
      "metadata": {
        "id": "Ke3W9rOeiRRu"
      },
      "source": [
        "Write to an Existing File\n",
        "\n",
        "To write to an existing file, you must add a parameter to the open() function:\n",
        "    \n",
        "\n",
        "\"a\" - Append - will append to the end of the file\n",
        "\n",
        "\n",
        "\"w\" - Write - will overwrite any existing content"
      ]
    },
    {
      "cell_type": "code",
      "execution_count": null,
      "metadata": {
        "id": "GqjKzCLsiRRu",
        "outputId": "37092298-749b-4a9a-9600-dd64e44b1eeb"
      },
      "outputs": [
        {
          "name": "stdout",
          "output_type": "stream",
          "text": [
            "hi\n"
          ]
        }
      ],
      "source": [
        "#create a new py file\n",
        "#it will downloaded on the system\n",
        "\n",
        "with open(\"file write demo.txt\", \"w\") as f:\n",
        "    print('hi')\n"
      ]
    },
    {
      "cell_type": "code",
      "execution_count": null,
      "metadata": {
        "id": "cb8MKWPxiRRv"
      },
      "outputs": [],
      "source": [
        "#then edit the file with text\n",
        "#then again run the above cell\n",
        "#the file must be empty\n",
        "#its n the  note\n"
      ]
    },
    {
      "cell_type": "code",
      "execution_count": null,
      "metadata": {
        "id": "Vg61kVeuiRRv",
        "outputId": "68339b20-60cc-4ef6-8ba1-80fd4b12366d"
      },
      "outputs": [
        {
          "name": "stdout",
          "output_type": "stream",
          "text": [
            "this is line 1\n",
            "this is line 0\n",
            "\n"
          ]
        }
      ],
      "source": [
        "#writing a file\n",
        "with open(\"file write demo.txt\", \"r\") as f:\n",
        "    print(f.read())\n",
        "\n"
      ]
    },
    {
      "cell_type": "code",
      "execution_count": null,
      "metadata": {
        "id": "Zat-VqK0iRRx",
        "outputId": "559bfedd-4661-4d03-b053-32789aa52451"
      },
      "outputs": [
        {
          "name": "stdout",
          "output_type": "stream",
          "text": [
            "hi\n"
          ]
        }
      ],
      "source": [
        "with open(\"file write demo.txt\", \"w\") as f:\n",
        "    print('hi')\n"
      ]
    },
    {
      "cell_type": "code",
      "execution_count": null,
      "metadata": {
        "id": "SP_4RAp9iRRx"
      },
      "outputs": [],
      "source": [
        "#writing a file\n",
        "with open(\"file write demo.txt\", \"w\") as f:\n",
        "    f.write(\"this is new line \\n this is line 2\")"
      ]
    },
    {
      "cell_type": "code",
      "execution_count": null,
      "metadata": {
        "id": "oWEBURaQiRRy"
      },
      "outputs": [],
      "source": [
        "#append mode()\n",
        "with open(\"file write demo.txt\", \"a\") as f:\n",
        "    f.write(\" \\nthis is line 3\")\n",
        "\n",
        "\n",
        "\n"
      ]
    },
    {
      "cell_type": "code",
      "execution_count": null,
      "metadata": {
        "id": "OMSQhuyIiRRy"
      },
      "outputs": [],
      "source": [
        "#append mode()\n",
        "with open(\"file write demo.txt\", \"\") as f:\n",
        "    f.write(\" \\nthis is line 3\")\n"
      ]
    },
    {
      "cell_type": "code",
      "execution_count": null,
      "metadata": {
        "id": "i_QnASB9iRRy"
      },
      "outputs": [],
      "source": [
        ""
      ]
    },
    {
      "cell_type": "markdown",
      "source": [
        "#Delete a File\n",
        "\n",
        "To delete a file, you must import the OS module, and run its os.remove() function:"
      ],
      "metadata": {
        "id": "cUrLkjYTkimH"
      }
    },
    {
      "cell_type": "code",
      "source": [
        "import os\n",
        "os.remove(\"demofile.txt\")"
      ],
      "metadata": {
        "id": "NN3DoILokjre"
      },
      "execution_count": null,
      "outputs": []
    },
    {
      "cell_type": "code",
      "source": [
        "Check if File exist:"
      ],
      "metadata": {
        "colab": {
          "base_uri": "https://localhost:8080/",
          "height": 130
        },
        "id": "em41NcsgwvRM",
        "outputId": "f38ce797-e880-4b42-9348-bbf5bd0cf0d1"
      },
      "execution_count": null,
      "outputs": [
        {
          "output_type": "error",
          "ename": "SyntaxError",
          "evalue": "ignored",
          "traceback": [
            "\u001b[0;36m  File \u001b[0;32m\"<ipython-input-1-869fe81c9056>\"\u001b[0;36m, line \u001b[0;32m1\u001b[0m\n\u001b[0;31m    Check if File exist:\u001b[0m\n\u001b[0m                      ^\u001b[0m\n\u001b[0;31mSyntaxError\u001b[0m\u001b[0;31m:\u001b[0m invalid syntax\n"
          ]
        }
      ]
    },
    {
      "cell_type": "code",
      "source": [
        " #Delete Folder\n",
        "import os\n",
        "os.rmdir(\"myfolder\")"
      ],
      "metadata": {
        "id": "cS20TRS2w5RT"
      },
      "execution_count": null,
      "outputs": []
    },
    {
      "cell_type": "code",
      "source": [
        "import os\n",
        "if os.path.exists(\"demofile.txt\"):\n",
        "  os.remove(\"demofile.txt\")\n",
        "else:\n",
        "  print(\"The file does not exist\")"
      ],
      "metadata": {
        "id": "6tAqz5zwybry"
      },
      "execution_count": null,
      "outputs": []
    },
    {
      "cell_type": "code",
      "source": [
        "mkdir\n",
        "\n",
        "os.mkdir(\"folder na\")"
      ],
      "metadata": {
        "id": "1tjJ1S9Yz2Wy"
      },
      "execution_count": null,
      "outputs": []
    }
  ],
  "metadata": {
    "kernelspec": {
      "display_name": "Python 3",
      "language": "python",
      "name": "python3"
    },
    "language_info": {
      "codemirror_mode": {
        "name": "ipython",
        "version": 3
      },
      "file_extension": ".py",
      "mimetype": "text/x-python",
      "name": "python",
      "nbconvert_exporter": "python",
      "pygments_lexer": "ipython3",
      "version": "3.7.3"
    },
    "colab": {
      "name": "FIle handling.ipynb",
      "provenance": []
    }
  },
  "nbformat": 4,
  "nbformat_minor": 0
}